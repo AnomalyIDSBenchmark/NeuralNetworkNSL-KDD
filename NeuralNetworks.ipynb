{
 "cells": [
  {
   "cell_type": "markdown",
   "metadata": {},
   "source": [
    "# Implementation of K-Means Clustering on NSL-KDD Dataset\n",
    "Using Method Described in *\"K-Means Clustering Approach to Analyze\n",
    "NSL-KDD Intrusion Detection Dataset\"* found [here](http://citeseerx.ist.psu.edu/viewdoc/download?doi=10.1.1.413.589&rep=rep1&type=pdf).\n",
    "\n",
    "Uses scikit-learn k-means learner to classify [NSL-KDD dataset](http://www.unb.ca/cic/research/datasets/nsl.html) and analyze results."
   ]
  },
  {
   "cell_type": "code",
   "execution_count": 1,
   "metadata": {
    "collapsed": true
   },
   "outputs": [],
   "source": [
    "import pandas as pd\n",
    "from sklearn.preprocessing import minmax_scale\n",
    "from sklearn.neural_network import MLPClassifier"
   ]
  },
  {
   "cell_type": "markdown",
   "metadata": {},
   "source": [
    "## Data Preprocessing\n",
    "Define a data loading function, categorical variables are converted into numerical using categorical codes."
   ]
  },
  {
   "cell_type": "code",
   "execution_count": 2,
   "metadata": {
    "collapsed": true
   },
   "outputs": [],
   "source": [
    "def load_data(file_path, cols=None):\n",
    "    COL_NAMES = [\"duration\", \"protocol_type\", \"service\", \"flag\", \"src_bytes\",\n",
    "                 \"dst_bytes\", \"land\", \"wrong_fragment\", \"urgent\", \"hot\", \"num_failed_logins\",\n",
    "                 \"logged_in\", \"num_compromised\", \"root_shell\", \"su_attempted\", \"num_root\",\n",
    "                 \"num_file_creations\", \"num_shells\", \"num_access_files\", \"num_outbound_cmds\",\n",
    "                 \"is_host_login\", \"is_guest_login\", \"count\", \"srv_count\", \"serror_rate\",\n",
    "                 \"srv_serror_rate\", \"rerror_rate\", \"srv_rerror_rate\", \"same_srv_rate\",\n",
    "                 \"diff_srv_rate\", \"srv_diff_host_rate\", \"dst_host_count\", \"dst_host_srv_count\",\n",
    "                 \"dst_host_same_srv_rate\", \"dst_host_diff_srv_rate\", \"dst_host_same_src_port_rate\",\n",
    "                 \"dst_host_srv_diff_host_rate\", \"dst_host_serror_rate\", \"dst_host_srv_serror_rate\",\n",
    "                 \"dst_host_rerror_rate\", \"dst_host_srv_rerror_rate\", \"labels\"]\n",
    "\n",
    "    data = pd.read_csv(file_path, names=COL_NAMES, index_col=False)\n",
    "    NOM_IND = [1, 2, 3]\n",
    "    BIN_IND = [6, 11, 13, 14, 20, 21]\n",
    "    # Need to find the numerical columns for normalization\n",
    "    NUM_IND = list(set(range(40)).difference(NOM_IND).difference(BIN_IND))\n",
    "    # Convert nominal to category codes\n",
    "    for num in NOM_IND:\n",
    "        data.iloc[:, num] = data.iloc[:, num].astype('category')\n",
    "        data.iloc[:, num] = data.iloc[:, num].cat.codes\n",
    "    # Scale all numerical data to [0-1]\n",
    "    data.iloc[:, NOM_IND] = minmax_scale(data.iloc[:, NOM_IND])\n",
    "    data.iloc[:, NUM_IND] = minmax_scale(data.iloc[:, NUM_IND])\n",
    "    labels = None\n",
    "    if 'labels' in data.columns:\n",
    "        labels = data['labels']\n",
    "        # Binary labeling\n",
    "        labels = labels.apply(lambda x: x if x =='normal' else 'anomaly')\n",
    "        del data['labels']\n",
    "    return [data, labels]"
   ]
  },
  {
   "cell_type": "markdown",
   "metadata": {},
   "source": [
    "## Neural Network Training and Testing\n",
    "Define a function that trains the model and evaluates it on the test data, outputs accuracy on the training and test sets."
   ]
  },
  {
   "cell_type": "code",
   "execution_count": 3,
   "metadata": {
    "collapsed": true
   },
   "outputs": [],
   "source": [
    "def train_clf(train_data, train_labels):\n",
    "    clf = MLPClassifier(hidden_layer_sizes=(20,), alpha=.7,\n",
    "                        beta_1=.8, beta_2=.8)\n",
    "    clf.fit(train_data, train_labels)\n",
    "    train_preds = clf.predict(train_data)\n",
    "    train_acc = sum(train_preds == train_labels)/len(train_preds)\n",
    "    print(\"Accuracy on training set: {0:1%}\".format(train_acc))\n",
    "    return clf"
   ]
  },
  {
   "cell_type": "code",
   "execution_count": 4,
   "metadata": {
    "collapsed": true
   },
   "outputs": [],
   "source": [
    "def test_clf(test_data, test_labels, clf):\n",
    "    test_preds = clf.predict(test_data)\n",
    "    test_acc = sum(test_preds == test_labels)/len(test_preds)\n",
    "    print(\"Accuracy on test set: {0:1%}\".format(test_acc))\n",
    "    return test_preds"
   ]
  },
  {
   "cell_type": "markdown",
   "metadata": {},
   "source": [
    "# Training Classifier"
   ]
  },
  {
   "cell_type": "code",
   "execution_count": 5,
   "metadata": {},
   "outputs": [
    {
     "name": "stdout",
     "output_type": "stream",
     "text": [
      "Accuracy on training set: 96.750097%\n"
     ]
    }
   ],
   "source": [
    "train_data, train_labels = load_data('data/KDDTrain+.csv')\n",
    "clf = train_clf(train_data, train_labels)"
   ]
  },
  {
   "cell_type": "markdown",
   "metadata": {},
   "source": [
    "# Testing"
   ]
  },
  {
   "cell_type": "code",
   "execution_count": 6,
   "metadata": {},
   "outputs": [
    {
     "name": "stdout",
     "output_type": "stream",
     "text": [
      "Accuracy on test set: 78.068580%\n"
     ]
    }
   ],
   "source": [
    "test_data, test_labels = load_data('data/KDDTest+.csv')\n",
    "test_preds = test_clf(test_data, test_labels, clf)"
   ]
  }
 ],
 "metadata": {
  "kernelspec": {
   "display_name": "Python 3",
   "language": "python",
   "name": "python3"
  },
  "language_info": {
   "codemirror_mode": {
    "name": "ipython",
    "version": 3
   },
   "file_extension": ".py",
   "mimetype": "text/x-python",
   "name": "python",
   "nbconvert_exporter": "python",
   "pygments_lexer": "ipython3",
   "version": "3.6.1"
  }
 },
 "nbformat": 4,
 "nbformat_minor": 2
}
